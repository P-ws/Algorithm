{
 "cells": [
  {
   "cell_type": "code",
   "execution_count": 25,
   "id": "3ca946ed-6e6d-4e7d-a846-58dab7eb58a7",
   "metadata": {},
   "outputs": [
    {
     "name": "stdin",
     "output_type": "stream",
     "text": [
      " 7\n",
      " push 123\n",
      " push 334\n",
      " top\n"
     ]
    },
    {
     "name": "stdout",
     "output_type": "stream",
     "text": [
      "334\n"
     ]
    },
    {
     "name": "stdin",
     "output_type": "stream",
     "text": [
      " size\n"
     ]
    },
    {
     "name": "stdout",
     "output_type": "stream",
     "text": [
      "2\n"
     ]
    },
    {
     "name": "stdin",
     "output_type": "stream",
     "text": [
      " pop\n"
     ]
    },
    {
     "name": "stdout",
     "output_type": "stream",
     "text": [
      "334\n"
     ]
    },
    {
     "name": "stdin",
     "output_type": "stream",
     "text": [
      " pop\n"
     ]
    },
    {
     "name": "stdout",
     "output_type": "stream",
     "text": [
      "123\n"
     ]
    },
    {
     "name": "stdin",
     "output_type": "stream",
     "text": [
      " pop\n"
     ]
    },
    {
     "name": "stdout",
     "output_type": "stream",
     "text": [
      "-1\n"
     ]
    }
   ],
   "source": [
    "n = int(input())\n",
    "stack_list = []\n",
    "def process_stack(command):\n",
    "    if 'push' in command:\n",
    "        stack_list.append(int(command[5:]))\n",
    "        \n",
    "    elif command == 'top':\n",
    "        if stack_list:\n",
    "            print(stack_list[-1])\n",
    "        else:\n",
    "            print(-1)\n",
    "    \n",
    "    elif command == 'size':\n",
    "        print(len(stack_list))\n",
    "\n",
    "        \n",
    "    elif command == 'empty':\n",
    "        if stack_list:\n",
    "            print(0)\n",
    "        else:\n",
    "            print(1)\n",
    "            \n",
    "    elif command =='pop':\n",
    "        if stack_list:\n",
    "            print(stack_list[-1])\n",
    "            del(stack_list[-1])\n",
    "        else:\n",
    "            print(-1)\n",
    "    else:\n",
    "        print(-1)\n",
    "        \n",
    "        \n",
    "        \n",
    "for i in range(n):\n",
    "    command = input()\n",
    "    process_stack(command)\n",
    "\n",
    "\n"
   ]
  },
  {
   "cell_type": "code",
   "execution_count": 22,
   "id": "5eaee520-8dfa-418f-9331-047565afefd4",
   "metadata": {},
   "outputs": [
    {
     "name": "stdout",
     "output_type": "stream",
     "text": [
      "1\n"
     ]
    }
   ],
   "source": [
    "a = [1]\n",
    "if a:\n",
    "    print(1)"
   ]
  },
  {
   "cell_type": "code",
   "execution_count": null,
   "id": "ae2510f4-fd79-4f19-be1e-7abbbff204a9",
   "metadata": {},
   "outputs": [],
   "source": []
  }
 ],
 "metadata": {
  "kernelspec": {
   "display_name": "Python 3",
   "language": "python",
   "name": "python3"
  },
  "language_info": {
   "codemirror_mode": {
    "name": "ipython",
    "version": 3
   },
   "file_extension": ".py",
   "mimetype": "text/x-python",
   "name": "python",
   "nbconvert_exporter": "python",
   "pygments_lexer": "ipython3",
   "version": "3.8.8"
  }
 },
 "nbformat": 4,
 "nbformat_minor": 5
}
