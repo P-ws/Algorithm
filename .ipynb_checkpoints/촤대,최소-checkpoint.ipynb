{
 "cells": [
  {
   "cell_type": "code",
   "execution_count": null,
   "id": "0a2cc973-6ddf-4d40-8349-4be9ee10b548",
   "metadata": {},
   "outputs": [],
   "source": [
    "arr = list(map(int,input().split()))\n",
    "arr_len = len(arr)\n",
    "for i in range(arr_len-1):\n",
    "    if arr[i] > arr[i+1]:\n",
    "        arr[i+1] = arr[i]\n",
    "        \n",
    "print(arr[arr_len-1],end = ' ')\n",
    "\n",
    "for i in range(1,arr_len):\n",
    "    if arr[i] > arr[i-1]:\n",
    "        arr[i] = arr[i-1]\n",
    "        \n",
    "print(arr[arr_len-1])"
   ]
  }
 ],
 "metadata": {
  "kernelspec": {
   "display_name": "Python 3",
   "language": "python",
   "name": "python3"
  },
  "language_info": {
   "codemirror_mode": {
    "name": "ipython",
    "version": 3
   },
   "file_extension": ".py",
   "mimetype": "text/x-python",
   "name": "python",
   "nbconvert_exporter": "python",
   "pygments_lexer": "ipython3",
   "version": "3.8.8"
  }
 },
 "nbformat": 4,
 "nbformat_minor": 5
}
