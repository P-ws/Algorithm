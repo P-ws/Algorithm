{
 "cells": [
  {
   "cell_type": "code",
   "execution_count": null,
   "id": "75c543ec-b530-41b8-81d9-7b660907f4ae",
   "metadata": {},
   "outputs": [
    {
     "name": "stdin",
     "output_type": "stream",
     "text": [
      " 15\n",
      " append 5\n",
      " append 6\n",
      " append 7\n",
      " append 8\n",
      " pop 3\n",
      " pop 2\n",
      " pop 1\n",
      " popleft\n"
     ]
    },
    {
     "name": "stdout",
     "output_type": "stream",
     "text": [
      "1\n"
     ]
    },
    {
     "name": "stdin",
     "output_type": "stream",
     "text": [
      " appendleft\n"
     ]
    },
    {
     "name": "stdout",
     "output_type": "stream",
     "text": [
      "8\n"
     ]
    },
    {
     "name": "stdin",
     "output_type": "stream",
     "text": [
      " appendleft\n"
     ]
    },
    {
     "name": "stdout",
     "output_type": "stream",
     "text": [
      "7\n"
     ]
    },
    {
     "name": "stdin",
     "output_type": "stream",
     "text": [
      " size\n"
     ]
    },
    {
     "name": "stdout",
     "output_type": "stream",
     "text": [
      "1\n"
     ]
    }
   ],
   "source": [
    "class Queue:\n",
    "    def __init__(self, n):\n",
    "        self.array = [None for _ in range(n)]\n",
    "        self.f_idx = 0\n",
    "        self.b_idx = 0\n",
    "\n",
    "    def append(self, num):\n",
    "        self.array[self.b_idx] = num\n",
    "        self.b_idx += 1\n",
    "    \n",
    "    def appendleft(self):\n",
    "        if self.is_empty():\n",
    "            return -1\n",
    "        \n",
    "        append_val = self.array[self.b_idx-1]\n",
    "        self.b_idx -=1\n",
    "        return append_val\n",
    "\n",
    "    def pop(self,num):\n",
    "        self.array[self.f_idx] = num\n",
    "\n",
    "\n",
    "    def popleft(self):\n",
    "        \n",
    "        if self.is_empty():\n",
    "            return -1\n",
    "        \n",
    "        pop_val = self.array[self.f_idx]\n",
    "        self.f_idx += 1\n",
    "        return pop_val\n",
    "        \n",
    "        \n",
    "    def size(self):\n",
    "        return self.b_idx - self.f_idx\n",
    "\n",
    "    def empty(self):\n",
    "        return int(self.is_empty())\n",
    "\n",
    "    def is_empty(self):\n",
    "        return self.size() == 0\n",
    "\n",
    "\n",
    "\n",
    "\n",
    "def run_cmd_with_queue(command, queue_obj):\n",
    "    cmd_type = command[0]\n",
    "\n",
    "    if cmd_type == \"append\":\n",
    "        _, num = command\n",
    "        queue_obj.append(int(num))\n",
    "        \n",
    "    elif cmd_type == \"appendleft\":\n",
    "        print(queue_obj.appendleft())\n",
    "        \n",
    "    elif cmd_type == \"popleft\":\n",
    "        print(queue_obj.popleft())\n",
    "        \n",
    "    elif cmd_type == \"pop\":\n",
    "        _, num = command\n",
    "        queue_obj.pop(int(num))\n",
    "\n",
    "    elif cmd_type == \"size\":\n",
    "        print(queue_obj.size())\n",
    "\n",
    "    elif cmd_type == \"empty\":\n",
    "        print(queue_obj.empty())\n",
    "        \n",
    "\n",
    "    \n",
    "\n",
    "n = int(input())\n",
    "queue_obj = Queue(n)\n",
    "\n",
    "for _ in range(n):\n",
    "    run_cmd_with_queue(input().split(), queue_obj)"
   ]
  },
  {
   "cell_type": "code",
   "execution_count": null,
   "id": "60145259-ba5a-44d7-be24-911fcbe9af7a",
   "metadata": {},
   "outputs": [],
   "source": []
  }
 ],
 "metadata": {
  "kernelspec": {
   "display_name": "Python 3",
   "language": "python",
   "name": "python3"
  },
  "language_info": {
   "codemirror_mode": {
    "name": "ipython",
    "version": 3
   },
   "file_extension": ".py",
   "mimetype": "text/x-python",
   "name": "python",
   "nbconvert_exporter": "python",
   "pygments_lexer": "ipython3",
   "version": "3.8.8"
  }
 },
 "nbformat": 4,
 "nbformat_minor": 5
}
