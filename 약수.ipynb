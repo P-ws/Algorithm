{
 "cells": [
  {
   "cell_type": "code",
   "execution_count": 12,
   "id": "db5032dd-0bd7-402e-832a-60bc11ef8e92",
   "metadata": {},
   "outputs": [
    {
     "name": "stdin",
     "output_type": "stream",
     "text": [
      " 100\n"
     ]
    },
    {
     "name": "stdout",
     "output_type": "stream",
     "text": [
      "1 2 4 5 10 20 25 50 100\n"
     ]
    }
   ],
   "source": [
    "N=int(input())\n",
    "for i in range(1,int(N/2)+1):\n",
    "    if N%i == 0 :\n",
    "        print(i,end = ' ')\n",
    "print(N)"
   ]
  },
  {
   "cell_type": "code",
   "execution_count": null,
   "id": "d0047a72-3d54-44dc-bc51-08bf2f560017",
   "metadata": {},
   "outputs": [],
   "source": []
  }
 ],
 "metadata": {
  "kernelspec": {
   "display_name": "Python 3",
   "language": "python",
   "name": "python3"
  },
  "language_info": {
   "codemirror_mode": {
    "name": "ipython",
    "version": 3
   },
   "file_extension": ".py",
   "mimetype": "text/x-python",
   "name": "python",
   "nbconvert_exporter": "python",
   "pygments_lexer": "ipython3",
   "version": "3.8.8"
  }
 },
 "nbformat": 4,
 "nbformat_minor": 5
}
