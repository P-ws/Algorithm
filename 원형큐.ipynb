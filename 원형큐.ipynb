{
 "cells": [
  {
   "cell_type": "code",
   "execution_count": 6,
   "id": "3f5fcdc5-c26a-4b1e-942e-6a98d273fac1",
   "metadata": {},
   "outputs": [
    {
     "name": "stdin",
     "output_type": "stream",
     "text": [
      " 10\n",
      " push 10\n",
      " push 100\n",
      " push 1000\n",
      " pop\n"
     ]
    },
    {
     "name": "stdout",
     "output_type": "stream",
     "text": [
      "10\n"
     ]
    },
    {
     "name": "stdin",
     "output_type": "stream",
     "text": [
      " pop\n"
     ]
    },
    {
     "name": "stdout",
     "output_type": "stream",
     "text": [
      "1000\n"
     ]
    },
    {
     "name": "stdin",
     "output_type": "stream",
     "text": [
      " pop\n"
     ]
    },
    {
     "name": "stdout",
     "output_type": "stream",
     "text": [
      "None\n"
     ]
    },
    {
     "ename": "KeyboardInterrupt",
     "evalue": "Interrupted by user",
     "output_type": "error",
     "traceback": [
      "\u001b[1;31m---------------------------------------------------------------------------\u001b[0m",
      "\u001b[1;31mKeyboardInterrupt\u001b[0m                         Traceback (most recent call last)",
      "\u001b[1;32m<ipython-input-6-a4147b3c86e4>\u001b[0m in \u001b[0;36m<module>\u001b[1;34m\u001b[0m\n\u001b[0;32m     86\u001b[0m \u001b[1;33m\u001b[0m\u001b[0m\n\u001b[0;32m     87\u001b[0m \u001b[1;32mfor\u001b[0m \u001b[0m_\u001b[0m \u001b[1;32min\u001b[0m \u001b[0mrange\u001b[0m\u001b[1;33m(\u001b[0m\u001b[0mn\u001b[0m\u001b[1;33m)\u001b[0m\u001b[1;33m:\u001b[0m\u001b[1;33m\u001b[0m\u001b[1;33m\u001b[0m\u001b[0m\n\u001b[1;32m---> 88\u001b[1;33m     \u001b[0mrun_cmd_with_queue\u001b[0m\u001b[1;33m(\u001b[0m\u001b[0minput\u001b[0m\u001b[1;33m(\u001b[0m\u001b[1;33m)\u001b[0m\u001b[1;33m.\u001b[0m\u001b[0msplit\u001b[0m\u001b[1;33m(\u001b[0m\u001b[1;33m)\u001b[0m\u001b[1;33m,\u001b[0m \u001b[0mqueue_obj\u001b[0m\u001b[1;33m)\u001b[0m\u001b[1;33m\u001b[0m\u001b[1;33m\u001b[0m\u001b[0m\n\u001b[0m",
      "\u001b[1;32m~\\Anaconda3\\lib\\site-packages\\ipykernel\\kernelbase.py\u001b[0m in \u001b[0;36mraw_input\u001b[1;34m(self, prompt)\u001b[0m\n\u001b[0;32m    858\u001b[0m                 \u001b[1;34m\"raw_input was called, but this frontend does not support input requests.\"\u001b[0m\u001b[1;33m\u001b[0m\u001b[1;33m\u001b[0m\u001b[0m\n\u001b[0;32m    859\u001b[0m             )\n\u001b[1;32m--> 860\u001b[1;33m         return self._input_request(str(prompt),\n\u001b[0m\u001b[0;32m    861\u001b[0m             \u001b[0mself\u001b[0m\u001b[1;33m.\u001b[0m\u001b[0m_parent_ident\u001b[0m\u001b[1;33m,\u001b[0m\u001b[1;33m\u001b[0m\u001b[1;33m\u001b[0m\u001b[0m\n\u001b[0;32m    862\u001b[0m             \u001b[0mself\u001b[0m\u001b[1;33m.\u001b[0m\u001b[0m_parent_header\u001b[0m\u001b[1;33m,\u001b[0m\u001b[1;33m\u001b[0m\u001b[1;33m\u001b[0m\u001b[0m\n",
      "\u001b[1;32m~\\Anaconda3\\lib\\site-packages\\ipykernel\\kernelbase.py\u001b[0m in \u001b[0;36m_input_request\u001b[1;34m(self, prompt, ident, parent, password)\u001b[0m\n\u001b[0;32m    902\u001b[0m             \u001b[1;32mexcept\u001b[0m \u001b[0mKeyboardInterrupt\u001b[0m\u001b[1;33m:\u001b[0m\u001b[1;33m\u001b[0m\u001b[1;33m\u001b[0m\u001b[0m\n\u001b[0;32m    903\u001b[0m                 \u001b[1;31m# re-raise KeyboardInterrupt, to truncate traceback\u001b[0m\u001b[1;33m\u001b[0m\u001b[1;33m\u001b[0m\u001b[1;33m\u001b[0m\u001b[0m\n\u001b[1;32m--> 904\u001b[1;33m                 \u001b[1;32mraise\u001b[0m \u001b[0mKeyboardInterrupt\u001b[0m\u001b[1;33m(\u001b[0m\u001b[1;34m\"Interrupted by user\"\u001b[0m\u001b[1;33m)\u001b[0m \u001b[1;32mfrom\u001b[0m \u001b[1;32mNone\u001b[0m\u001b[1;33m\u001b[0m\u001b[1;33m\u001b[0m\u001b[0m\n\u001b[0m\u001b[0;32m    905\u001b[0m             \u001b[1;32mexcept\u001b[0m \u001b[0mException\u001b[0m \u001b[1;32mas\u001b[0m \u001b[0me\u001b[0m\u001b[1;33m:\u001b[0m\u001b[1;33m\u001b[0m\u001b[1;33m\u001b[0m\u001b[0m\n\u001b[0;32m    906\u001b[0m                 \u001b[0mself\u001b[0m\u001b[1;33m.\u001b[0m\u001b[0mlog\u001b[0m\u001b[1;33m.\u001b[0m\u001b[0mwarning\u001b[0m\u001b[1;33m(\u001b[0m\u001b[1;34m\"Invalid Message:\"\u001b[0m\u001b[1;33m,\u001b[0m \u001b[0mexc_info\u001b[0m\u001b[1;33m=\u001b[0m\u001b[1;32mTrue\u001b[0m\u001b[1;33m)\u001b[0m\u001b[1;33m\u001b[0m\u001b[1;33m\u001b[0m\u001b[0m\n",
      "\u001b[1;31mKeyboardInterrupt\u001b[0m: Interrupted by user"
     ]
    }
   ],
   "source": [
    "class Queue:\n",
    "    import numpy as np\n",
    "    \n",
    "    def __init__(self, n):\n",
    "        self.array = [None for _ in range(n)]\n",
    "        self.f_idx = 0\n",
    "        self.b_idx = 0\n",
    "        self.f = 0\n",
    "        self.b = 0\n",
    "\n",
    "    def push(self, num):\n",
    "        self.array[self.f_idx] = num\n",
    "        self.f_idx += 1\n",
    "        self.f += 1\n",
    "        \n",
    "        if self.size() == len(self.array):\n",
    "            return \"you can't do push\"\n",
    "        \n",
    "        if self.f_idx % len(self.array) == 0:\n",
    "            self.f_idx = 0\n",
    "\n",
    "    def pop(self):\n",
    "        if self.is_empty():\n",
    "            return -1\n",
    "        \n",
    "        pop_val = self.array[self.b_idx]\n",
    "        del self.array[self.b_idx]\n",
    "        self.b_idx += 1\n",
    "        self.b += 1\n",
    "\n",
    "        if self.b_idx % len(self.array) == 0:\n",
    "            self.b_idx = 0\n",
    "        \n",
    "        return pop_val\n",
    "\n",
    "        # self.f_idx += 1\n",
    "        # return self.array[self.f_idx-1]\n",
    "    def size(self):\n",
    "        if self.f == self.b:\n",
    "            return 0\n",
    "        else:\n",
    "            return self.f -  self.b + 1 \n",
    "\n",
    "    def empty(self):\n",
    "        return int(self.is_empty())\n",
    "\n",
    "    def is_empty(self):\n",
    "        return self.size() == 0\n",
    "\n",
    "    def front(self):\n",
    "        if self.is_empty():\n",
    "            return -1\n",
    "\n",
    "        return self.array[self.f_idx]\n",
    "\n",
    "    def back(self):\n",
    "        if self.is_empty():\n",
    "            return -1\n",
    "        \n",
    "        return self.array[self.b_idx]\n",
    "\n",
    "def run_cmd_with_queue(command, queue_obj):\n",
    "    cmd_type = command[0]\n",
    "\n",
    "    if cmd_type == \"push\":\n",
    "        _, num = command\n",
    "        queue_obj.push(int(num))\n",
    "    elif cmd_type == \"pop\":\n",
    "        print(queue_obj.pop())\n",
    "\n",
    "    elif cmd_type == \"size\":\n",
    "        print(queue_obj.size())\n",
    "\n",
    "    elif cmd_type == \"empty\":\n",
    "        print(queue_obj.empty())\n",
    "\n",
    "    elif cmd_type == \"front\":\n",
    "        print(queue_obj.front())\n",
    "\n",
    "    elif cmd_type == \"back\":\n",
    "        print(queue_obj.back())\n",
    "    \n",
    "\n",
    "n = int(input())\n",
    "queue_obj = Queue(n)\n",
    "\n",
    "for _ in range(n):\n",
    "    run_cmd_with_queue(input().split(), queue_obj)"
   ]
  },
  {
   "cell_type": "code",
   "execution_count": 7,
   "id": "a6b02c02-5130-4974-af46-fa116b57a67d",
   "metadata": {},
   "outputs": [
    {
     "data": {
      "text/plain": [
       "4"
      ]
     },
     "execution_count": 7,
     "metadata": {},
     "output_type": "execute_result"
    }
   ],
   "source": [
    "-1 %5 "
   ]
  },
  {
   "cell_type": "code",
   "execution_count": 10,
   "id": "1bb1cd59-96f4-4916-a3ef-b2bf08cba3cc",
   "metadata": {},
   "outputs": [],
   "source": [
    "f = 1/(2000-1000)"
   ]
  },
  {
   "cell_type": "code",
   "execution_count": 11,
   "id": "a37b0794-13ce-497d-a30a-e108fc01421f",
   "metadata": {},
   "outputs": [
    {
     "data": {
      "text/plain": [
       "0.001"
      ]
     },
     "execution_count": 11,
     "metadata": {},
     "output_type": "execute_result"
    }
   ],
   "source": [
    "f"
   ]
  },
  {
   "cell_type": "code",
   "execution_count": 13,
   "id": "aab77fa8-230e-49bb-8db7-5ad2e3c5dc93",
   "metadata": {},
   "outputs": [
    {
     "data": {
      "text/plain": [
       "0.3"
      ]
     },
     "execution_count": 13,
     "metadata": {},
     "output_type": "execute_result"
    }
   ],
   "source": [
    "(1300-1000)*f"
   ]
  },
  {
   "cell_type": "code",
   "execution_count": null,
   "id": "9ecba9db-8886-493e-9c54-c4eced701421",
   "metadata": {},
   "outputs": [],
   "source": []
  }
 ],
 "metadata": {
  "kernelspec": {
   "display_name": "Python 3",
   "language": "python",
   "name": "python3"
  },
  "language_info": {
   "codemirror_mode": {
    "name": "ipython",
    "version": 3
   },
   "file_extension": ".py",
   "mimetype": "text/x-python",
   "name": "python",
   "nbconvert_exporter": "python",
   "pygments_lexer": "ipython3",
   "version": "3.8.8"
  }
 },
 "nbformat": 4,
 "nbformat_minor": 5
}
