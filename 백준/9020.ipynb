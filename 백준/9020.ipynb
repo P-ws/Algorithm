{
 "cells": [
  {
   "cell_type": "code",
   "execution_count": 1,
   "id": "7d60e4ae-7e6f-4a87-9a6e-e3bc229eccfd",
   "metadata": {},
   "outputs": [],
   "source": [
    "def isPrime(num):\n",
    "    import math\n",
    "    if num == 1:\n",
    "        return False\n",
    "    else:\n",
    "        for num_down in range(2,int(math.sqrt(num))+1):\n",
    "            if num% num_down == 0:\n",
    "                return False\n",
    "        return True"
   ]
  },
  {
   "cell_type": "code",
   "execution_count": 3,
   "id": "ebde2e5c-1440-401c-8378-b432c98f818d",
   "metadata": {},
   "outputs": [
    {
     "data": {
      "text/plain": [
       "True"
      ]
     },
     "execution_count": 3,
     "metadata": {},
     "output_type": "execute_result"
    }
   ],
   "source": [
    "isPrime(2)"
   ]
  },
  {
   "cell_type": "code",
   "execution_count": 7,
   "id": "1cbb7a82-d111-4ba6-ae30-8c7c65c2fc23",
   "metadata": {},
   "outputs": [],
   "source": [
    "isPrime_list = []\n",
    "for num in range(4,10001): #4~10000 까지 소수 다 담음\n",
    "    if isPrime(num):\n",
    "        isPrime_list.append(num)\n",
    "        \n",
    "isPrime_list.reverse() # 소수 큰거부터 나열"
   ]
  },
  {
   "cell_type": "code",
   "execution_count": null,
   "id": "2831cc24-9f2d-477e-995c-6ef8fcd9cd82",
   "metadata": {},
   "outputs": [],
   "source": [
    "N = int(input())\n",
    "for i in range(N):       #N번 만큼 단순 반복\n",
    "    num = int(input())\n",
    "    for sosu in isPrime_list:\n",
    "        if sosu<num: #주어진 숫자보다 소수가 작을때 그 소수 빼주기\n",
    "            num -=sosu"
   ]
  }
 ],
 "metadata": {
  "kernelspec": {
   "display_name": "Python 3",
   "language": "python",
   "name": "python3"
  },
  "language_info": {
   "codemirror_mode": {
    "name": "ipython",
    "version": 3
   },
   "file_extension": ".py",
   "mimetype": "text/x-python",
   "name": "python",
   "nbconvert_exporter": "python",
   "pygments_lexer": "ipython3",
   "version": "3.8.8"
  }
 },
 "nbformat": 4,
 "nbformat_minor": 5
}
