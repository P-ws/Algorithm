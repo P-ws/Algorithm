{
 "cells": [
  {
   "cell_type": "code",
   "execution_count": 5,
   "id": "71173503-ea91-4e71-9ccf-11257573e196",
   "metadata": {},
   "outputs": [
    {
     "name": "stdin",
     "output_type": "stream",
     "text": [
      " 1 1\n",
      " 1 2\n",
      " 2 2\n"
     ]
    },
    {
     "name": "stdout",
     "output_type": "stream",
     "text": [
      "2 1\n"
     ]
    }
   ],
   "source": [
    "x_1, y_1 = map(int, input().split())\n",
    "x_2, y_2 = map(int, input().split())\n",
    "x_3, y_3 = map(int, input().split())\n",
    "\n",
    "x_list = [x_1,x_2,x_3]\n",
    "y_list = [y_1,y_2,y_3]\n",
    "\n",
    "for i in range(len(x_list)):\n",
    "    if x_list.count(x_list[i]) == 1:\n",
    "        x = x_list[i]\n",
    "    elif y_list.count(y_list[i]) == 1:\n",
    "        y = y_list[i]\n",
    "        \n",
    "print(x,y)\n"
   ]
  },
  {
   "cell_type": "code",
   "execution_count": 1,
   "id": "4f9a8005-a9d5-480d-93ed-29b6d7f26457",
   "metadata": {},
   "outputs": [
    {
     "data": {
      "text/plain": [
       "1"
      ]
     },
     "execution_count": 1,
     "metadata": {},
     "output_type": "execute_result"
    }
   ],
   "source": [
    "a = [1,2,3,4,4]\n",
    "a.count(1)"
   ]
  },
  {
   "cell_type": "code",
   "execution_count": null,
   "id": "54a39244-aa3e-4762-a81f-e397d36a0f94",
   "metadata": {},
   "outputs": [],
   "source": []
  }
 ],
 "metadata": {
  "kernelspec": {
   "display_name": "Python 3",
   "language": "python",
   "name": "python3"
  },
  "language_info": {
   "codemirror_mode": {
    "name": "ipython",
    "version": 3
   },
   "file_extension": ".py",
   "mimetype": "text/x-python",
   "name": "python",
   "nbconvert_exporter": "python",
   "pygments_lexer": "ipython3",
   "version": "3.8.8"
  }
 },
 "nbformat": 4,
 "nbformat_minor": 5
}
