{
 "cells": [
  {
   "cell_type": "code",
   "execution_count": 12,
   "id": "c432fa3e-1a17-46d7-8e9c-a7a921f3993d",
   "metadata": {},
   "outputs": [
    {
     "name": "stdin",
     "output_type": "stream",
     "text": [
      " 216\n"
     ]
    },
    {
     "name": "stdout",
     "output_type": "stream",
     "text": [
      "198\n"
     ]
    }
   ],
   "source": [
    "n = int(input())\n",
    "num = 0\n",
    "for i in range(1,n+1):\n",
    "    num +=1\n",
    "    if sum(map(int,str(num)))+num == n:\n",
    "        print(num)\n",
    "        break\n",
    "    if i == n:\n",
    "        print(0)\n",
    "        break"
   ]
  },
  {
   "cell_type": "code",
   "execution_count": null,
   "id": "f16401e4-4889-4083-8cef-8b78de2f2153",
   "metadata": {},
   "outputs": [],
   "source": []
  }
 ],
 "metadata": {
  "kernelspec": {
   "display_name": "Python 3",
   "language": "python",
   "name": "python3"
  },
  "language_info": {
   "codemirror_mode": {
    "name": "ipython",
    "version": 3
   },
   "file_extension": ".py",
   "mimetype": "text/x-python",
   "name": "python",
   "nbconvert_exporter": "python",
   "pygments_lexer": "ipython3",
   "version": "3.8.8"
  }
 },
 "nbformat": 4,
 "nbformat_minor": 5
}
