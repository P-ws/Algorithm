{
 "cells": [
  {
   "cell_type": "code",
   "execution_count": null,
   "id": "a2dadd88-9148-41aa-80e0-bc94db50ab3a",
   "metadata": {},
   "outputs": [],
   "source": [
    "N, Pay_Money = map(int, input().split())\n",
    "Money_list = []\n",
    "for i in range(N):\n",
    "    Money = int(input())\n",
    "    Money_list.append(Money)\n",
    "\n",
    "Money_list.sort()\n",
    "Money_list.reverse()\n",
    "\n",
    "n = 0\n",
    "for money in Money_list:\n",
    "    if (Pay_Money//money) >= 1:\n",
    "        n += Pay_Money//money\n",
    "        a = Pay_Money%money\n",
    "        Pay_Money = a\n",
    "    \n",
    "print(n)"
   ]
  }
 ],
 "metadata": {
  "kernelspec": {
   "display_name": "Python 3",
   "language": "python",
   "name": "python3"
  },
  "language_info": {
   "codemirror_mode": {
    "name": "ipython",
    "version": 3
   },
   "file_extension": ".py",
   "mimetype": "text/x-python",
   "name": "python",
   "nbconvert_exporter": "python",
   "pygments_lexer": "ipython3",
   "version": "3.8.8"
  }
 },
 "nbformat": 4,
 "nbformat_minor": 5
}
