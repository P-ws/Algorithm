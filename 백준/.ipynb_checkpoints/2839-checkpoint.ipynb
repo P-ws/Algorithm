{
 "cells": [
  {
   "cell_type": "code",
   "execution_count": null,
   "id": "7631b662-5bf0-4369-b217-09843fb57a27",
   "metadata": {},
   "outputs": [],
   "source": [
    "N = int(input())\n",
    "\n",
    "bag = 0\n",
    "while True:\n",
    "    if (N%5)==0:\n",
    "        bag += N/5\n",
    "        print(format(bag,\".0f\"))\n",
    "        break\n",
    "    N -=3\n",
    "    bag +=1\n",
    "    \n",
    "    if N<0:\n",
    "        print(-1)\n",
    "        break"
   ]
  }
 ],
 "metadata": {
  "kernelspec": {
   "display_name": "Python 3",
   "language": "python",
   "name": "python3"
  },
  "language_info": {
   "codemirror_mode": {
    "name": "ipython",
    "version": 3
   },
   "file_extension": ".py",
   "mimetype": "text/x-python",
   "name": "python",
   "nbconvert_exporter": "python",
   "pygments_lexer": "ipython3",
   "version": "3.8.10"
  }
 },
 "nbformat": 4,
 "nbformat_minor": 5
}
