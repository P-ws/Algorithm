{
 "cells": [
  {
   "cell_type": "code",
   "execution_count": 2,
   "id": "01ef1563-c8d6-4eb6-b2c2-3601f07078a5",
   "metadata": {},
   "outputs": [
    {
     "name": "stdin",
     "output_type": "stream",
     "text": [
      " 6 2 10 3\n"
     ]
    },
    {
     "name": "stdout",
     "output_type": "stream",
     "text": [
      "1\n"
     ]
    }
   ],
   "source": [
    "x, y, w, h = map(int,input().split())\n",
    "x_street = w - x\n",
    "y_street = h - y\n",
    "if x_street >= y_street:\n",
    "    print(y_street)\n",
    "else:\n",
    "    print(x_street)"
   ]
  },
  {
   "cell_type": "code",
   "execution_count": null,
   "id": "11fa00b8-8936-4879-8b56-bc5b6ba52169",
   "metadata": {},
   "outputs": [],
   "source": []
  }
 ],
 "metadata": {
  "kernelspec": {
   "display_name": "Python 3",
   "language": "python",
   "name": "python3"
  },
  "language_info": {
   "codemirror_mode": {
    "name": "ipython",
    "version": 3
   },
   "file_extension": ".py",
   "mimetype": "text/x-python",
   "name": "python",
   "nbconvert_exporter": "python",
   "pygments_lexer": "ipython3",
   "version": "3.8.8"
  }
 },
 "nbformat": 4,
 "nbformat_minor": 5
}
