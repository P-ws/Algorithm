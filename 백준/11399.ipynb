{
 "cells": [
  {
   "cell_type": "code",
   "execution_count": 7,
   "id": "50b628dd-047b-40f9-a557-e2ff8d4f0d67",
   "metadata": {},
   "outputs": [
    {
     "name": "stdin",
     "output_type": "stream",
     "text": [
      " 5\n",
      " 3 1 4 3 2\n"
     ]
    },
    {
     "name": "stdout",
     "output_type": "stream",
     "text": [
      "[1, 2, 3, 3, 4]\n",
      "32\n"
     ]
    }
   ],
   "source": [
    "N = int(input())\n",
    "\n",
    "data = list(map(int,input().split()))\n",
    "data.sort()\n",
    "\n",
    "\n",
    "P_time = 0\n",
    "P_time_list = []\n",
    "for i in range(len(data)):\n",
    "    P_time +=data[i]\n",
    "    P_time_list.append(P_time)\n",
    "    \n",
    "\n",
    "print(sum(P_time_list))"
   ]
  },
  {
   "cell_type": "code",
   "execution_count": null,
   "id": "120b314c-6443-4599-a379-b89af60c3521",
   "metadata": {},
   "outputs": [],
   "source": []
  }
 ],
 "metadata": {
  "kernelspec": {
   "display_name": "Python 3",
   "language": "python",
   "name": "python3"
  },
  "language_info": {
   "codemirror_mode": {
    "name": "ipython",
    "version": 3
   },
   "file_extension": ".py",
   "mimetype": "text/x-python",
   "name": "python",
   "nbconvert_exporter": "python",
   "pygments_lexer": "ipython3",
   "version": "3.8.8"
  }
 },
 "nbformat": 4,
 "nbformat_minor": 5
}
