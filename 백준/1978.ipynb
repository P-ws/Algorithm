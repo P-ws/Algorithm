{
 "cells": [
  {
   "cell_type": "code",
   "execution_count": null,
   "id": "6c378c1c-562f-4ef4-9489-c78b0ec99f88",
   "metadata": {},
   "outputs": [],
   "source": [
    "N = int(input())\n",
    "nums = list(map(int,input().split()))\n",
    "\n",
    "for num in nums:\n",
    "    if num == 1:\n",
    "        N -=1\n",
    "    else:\n",
    "        for j in range(2, num):\n",
    "            if num%j == 0:\n",
    "                N -=1\n",
    "                break\n",
    "            else:\n",
    "                continue\n",
    "print(N)\n"
   ]
  }
 ],
 "metadata": {
  "kernelspec": {
   "display_name": "Python 3",
   "language": "python",
   "name": "python3"
  },
  "language_info": {
   "codemirror_mode": {
    "name": "ipython",
    "version": 3
   },
   "file_extension": ".py",
   "mimetype": "text/x-python",
   "name": "python",
   "nbconvert_exporter": "python",
   "pygments_lexer": "ipython3",
   "version": "3.8.10"
  }
 },
 "nbformat": 4,
 "nbformat_minor": 5
}
