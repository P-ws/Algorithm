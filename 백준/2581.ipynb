{
 "cells": [
  {
   "cell_type": "code",
   "execution_count": 39,
   "id": "b68537aa-113d-4a05-a30e-459c45def9c4",
   "metadata": {},
   "outputs": [
    {
     "name": "stdin",
     "output_type": "stream",
     "text": [
      " 60\n",
      " 100\n"
     ]
    },
    {
     "name": "stdout",
     "output_type": "stream",
     "text": [
      "620\n",
      "61\n"
     ]
    }
   ],
   "source": [
    "M = int(input())\n",
    "N = int(input())\n",
    "\n",
    "sosu = []\n",
    "for num in range(M,N+1):\n",
    "    if num == 1:\n",
    "        pass\n",
    "    \n",
    "    elif num == 2:\n",
    "        sosu.append(2)\n",
    "        \n",
    "    else:\n",
    "        check = True\n",
    "        for j in range(2,num):\n",
    "            if num%j == 0:\n",
    "                check = False\n",
    "                break\n",
    "        if check:\n",
    "            sosu.append(num)\n",
    "if len(sosu) == 0:\n",
    "    print(-1)\n",
    "print(sum(sosu))\n",
    "print(min(sosu))"
   ]
  }
 ],
 "metadata": {
  "kernelspec": {
   "display_name": "Python 3",
   "language": "python",
   "name": "python3"
  },
  "language_info": {
   "codemirror_mode": {
    "name": "ipython",
    "version": 3
   },
   "file_extension": ".py",
   "mimetype": "text/x-python",
   "name": "python",
   "nbconvert_exporter": "python",
   "pygments_lexer": "ipython3",
   "version": "3.8.10"
  }
 },
 "nbformat": 4,
 "nbformat_minor": 5
}
