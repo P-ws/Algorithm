{
 "cells": [
  {
   "cell_type": "code",
   "execution_count": null,
   "id": "d0b176ec-b77d-4130-b7e9-73bff8da8f07",
   "metadata": {},
   "outputs": [],
   "source": [
    "T =int(input()) #데이터 케이스\n",
    "\n",
    "for i in range(T):\n",
    "    x_1, y_1, r_1, x_2, y_2, r_2 = map(int,input().split())\n",
    "    a_list = list(i for i in range(-10000,10000+1))\n",
    "    b_list = list(i for i in range(-10000,10000+1))\n",
    "    total = []\n",
    "    for a in a_list:\n",
    "        for b in b_list:\n",
    "            if ((a-x_1)**2 + (b-y_1)**2 == r_1**2) & ((a-x_2)**2 + (b-y_2)**2 == r_2**2):\n",
    "                total.append([a,b])\n",
    "                \n",
    "print(total)"
   ]
  },
  {
   "cell_type": "code",
   "execution_count": null,
   "id": "8d242711-673d-409f-a58c-5b2ce52c9602",
   "metadata": {},
   "outputs": [
    {
     "name": "stdin",
     "output_type": "stream",
     "text": [
      " 1 1 1 1 1 5\n"
     ]
    }
   ],
   "source": [
    "x_1, y_1, r_1, x_2, y_2, r_2 = map(int,input().split())\n",
    "a_list = list(i for i in range(-10000,10000+1))\n",
    "b_list = list(i for i in range(-10000,10000+1))\n",
    "total = []\n",
    "for a in a_list:\n",
    "    for b in b_list:\n",
    "        if (a-x_1)**2 + (b-y_1)**2 == r_1**2 & (a-x_2)**2 + (b-y_2)**2 == r_2**2 :\n",
    "            total.append([a,b])\n",
    "                \n",
    "print(total)"
   ]
  },
  {
   "cell_type": "code",
   "execution_count": 1,
   "id": "2316bc65-e71f-4498-a134-d1d944a61525",
   "metadata": {},
   "outputs": [
    {
     "name": "stdout",
     "output_type": "stream",
     "text": [
      "[[1, 2]]\n"
     ]
    }
   ],
   "source": [
    "total = []\n",
    "total.append([1,2])\n",
    "print(total)"
   ]
  },
  {
   "cell_type": "code",
   "execution_count": null,
   "id": "804346a8-ad3b-496b-b458-44468ec657fc",
   "metadata": {},
   "outputs": [],
   "source": []
  }
 ],
 "metadata": {
  "kernelspec": {
   "display_name": "Python 3",
   "language": "python",
   "name": "python3"
  },
  "language_info": {
   "codemirror_mode": {
    "name": "ipython",
    "version": 3
   },
   "file_extension": ".py",
   "mimetype": "text/x-python",
   "name": "python",
   "nbconvert_exporter": "python",
   "pygments_lexer": "ipython3",
   "version": "3.8.8"
  }
 },
 "nbformat": 4,
 "nbformat_minor": 5
}
