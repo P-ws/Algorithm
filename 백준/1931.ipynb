{
 "cells": [
  {
   "cell_type": "code",
   "execution_count": 3,
   "id": "50cfe83d-38c5-459b-a727-c275edd3275e",
   "metadata": {},
   "outputs": [
    {
     "name": "stdin",
     "output_type": "stream",
     "text": [
      " 10 4200\n",
      " 1\n",
      " 5\n",
      " 10\n",
      " 50\n",
      " 100\n",
      " 500\n",
      " 1000\n",
      " 5000\n",
      " 10000\n",
      " 50000\n"
     ]
    },
    {
     "name": "stdout",
     "output_type": "stream",
     "text": [
      "6\n"
     ]
    }
   ],
   "source": [
    "N, Pay_Money = map(int, input().split())\n",
    "Money_list = []\n",
    "for i in range(N):\n",
    "    Money = int(input())\n",
    "    Money_list.append(Money)\n",
    "\n",
    "Money_list.sort()\n",
    "Money_list.reverse()\n",
    "\n",
    "n = 0\n",
    "for money in Money_list:\n",
    "    if (Pay_Money//money) >= 1:\n",
    "        n += Pay_Money//money\n",
    "        a = Pay_Money%money\n",
    "        Pay_Money = a\n",
    "    \n",
    "print(n)"
   ]
  },
  {
   "cell_type": "code",
   "execution_count": null,
   "id": "85262298-0d5d-4fe8-a15b-34b89a333893",
   "metadata": {},
   "outputs": [],
   "source": []
  }
 ],
 "metadata": {
  "kernelspec": {
   "display_name": "Python 3",
   "language": "python",
   "name": "python3"
  },
  "language_info": {
   "codemirror_mode": {
    "name": "ipython",
    "version": 3
   },
   "file_extension": ".py",
   "mimetype": "text/x-python",
   "name": "python",
   "nbconvert_exporter": "python",
   "pygments_lexer": "ipython3",
   "version": "3.8.8"
  }
 },
 "nbformat": 4,
 "nbformat_minor": 5
}
