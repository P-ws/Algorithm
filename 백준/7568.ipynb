{
 "cells": [
  {
   "cell_type": "code",
   "execution_count": 2,
   "id": "4ec3f188-7457-4732-8bbe-a0b90022c42d",
   "metadata": {},
   "outputs": [
    {
     "name": "stdin",
     "output_type": "stream",
     "text": [
      " 5\n",
      " 55 185\n",
      " 58 183\n",
      " 88 186\n",
      " 60 175\n",
      " 46 155\n"
     ]
    },
    {
     "name": "stdout",
     "output_type": "stream",
     "text": [
      "22125"
     ]
    }
   ],
   "source": [
    "num_student = int(input())\n",
    "student_list = []\n",
    "\n",
    "for i in range(num_student):\n",
    "    weight, height = map(int, input().split())\n",
    "    student_list.append([weight,height])\n",
    "    \n",
    "    \n",
    "    \n",
    "for i in student_list:\n",
    "    rank = 1\n",
    "    for j in student_list:\n",
    "        if i[0] < j[0] and i[1] < j[1]:\n",
    "            rank += 1\n",
    "    print(rank, end = ' ')"
   ]
  },
  {
   "cell_type": "code",
   "execution_count": null,
   "id": "7a2be11d-bd8e-435a-9911-f423a220405a",
   "metadata": {},
   "outputs": [],
   "source": []
  }
 ],
 "metadata": {
  "kernelspec": {
   "display_name": "Python 3",
   "language": "python",
   "name": "python3"
  },
  "language_info": {
   "codemirror_mode": {
    "name": "ipython",
    "version": 3
   },
   "file_extension": ".py",
   "mimetype": "text/x-python",
   "name": "python",
   "nbconvert_exporter": "python",
   "pygments_lexer": "ipython3",
   "version": "3.8.8"
  }
 },
 "nbformat": 4,
 "nbformat_minor": 5
}
