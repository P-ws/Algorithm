{
 "cells": [
  {
   "cell_type": "code",
   "execution_count": null,
   "id": "0396e7b0-6cae-4478-ac56-28e0e7e94ef8",
   "metadata": {},
   "outputs": [
    {
     "name": "stdin",
     "output_type": "stream",
     "text": [
      " 5 3 4\n"
     ]
    },
    {
     "name": "stdout",
     "output_type": "stream",
     "text": [
      "right\n"
     ]
    }
   ],
   "source": [
    "def triangle(a,b,c):\n",
    "    if (a**2)+(b**2) == (c**2):\n",
    "        print('right')\n",
    "    else:\n",
    "        print('wrong')\n",
    "\n",
    "while True:\n",
    "    a, b, c = map(int,input().split())\n",
    "    order_list = [a, b, c]\n",
    "    order_list.sort()\n",
    "    a = order_list[0]\n",
    "    b = order_list[1]\n",
    "    c = order_list[2]\n",
    "    if a == 0 & b == 0 & c == 0:\n",
    "        break\n",
    "    triangle(a, b, c)"
   ]
  },
  {
   "cell_type": "code",
   "execution_count": null,
   "id": "8704f281-4f7a-4a84-83d5-309bb34deeaf",
   "metadata": {},
   "outputs": [],
   "source": []
  }
 ],
 "metadata": {
  "kernelspec": {
   "display_name": "Python 3",
   "language": "python",
   "name": "python3"
  },
  "language_info": {
   "codemirror_mode": {
    "name": "ipython",
    "version": 3
   },
   "file_extension": ".py",
   "mimetype": "text/x-python",
   "name": "python",
   "nbconvert_exporter": "python",
   "pygments_lexer": "ipython3",
   "version": "3.8.8"
  }
 },
 "nbformat": 4,
 "nbformat_minor": 5
}
