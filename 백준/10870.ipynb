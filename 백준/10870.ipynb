{
 "cells": [
  {
   "cell_type": "code",
   "execution_count": 12,
   "id": "f3a2a462-c4a6-4c9b-9ef2-06f0629520d8",
   "metadata": {},
   "outputs": [
    {
     "name": "stdin",
     "output_type": "stream",
     "text": [
      " 10\n"
     ]
    },
    {
     "name": "stdout",
     "output_type": "stream",
     "text": [
      "55\n"
     ]
    }
   ],
   "source": [
    "def pibo(n):\n",
    "    pibo_list = [0,1]\n",
    "    for i in range(20):\n",
    "        c = pibo_list[i+1] + pibo_list[i]\n",
    "        pibo_list.append(c)\n",
    "    return print(pibo_list[n])\n",
    "\n",
    "n = int(input())\n",
    "pibo(n)"
   ]
  },
  {
   "cell_type": "code",
   "execution_count": null,
   "id": "7cbac7c5-c2e6-4cde-916b-c50b745961df",
   "metadata": {},
   "outputs": [],
   "source": []
  }
 ],
 "metadata": {
  "kernelspec": {
   "display_name": "Python 3",
   "language": "python",
   "name": "python3"
  },
  "language_info": {
   "codemirror_mode": {
    "name": "ipython",
    "version": 3
   },
   "file_extension": ".py",
   "mimetype": "text/x-python",
   "name": "python",
   "nbconvert_exporter": "python",
   "pygments_lexer": "ipython3",
   "version": "3.8.8"
  }
 },
 "nbformat": 4,
 "nbformat_minor": 5
}
