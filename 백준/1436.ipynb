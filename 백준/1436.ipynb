{
 "cells": [
  {
   "cell_type": "code",
   "execution_count": null,
   "id": "be891e6e-48b0-4d1f-bd1b-95cdf3ab46fa",
   "metadata": {},
   "outputs": [
    {
     "name": "stdin",
     "output_type": "stream",
     "text": [
      " 7\n"
     ]
    }
   ],
   "source": [
    "n = int(input())\n",
    "num = 666\n",
    "cnt = 0\n",
    "\n",
    "while True:\n",
    "    if '666' in str(num):\n",
    "        cnt +=1\n",
    "    if cnt == n:\n",
    "        print(num)\n",
    "        break\n",
    "    num +=1\n"
   ]
  },
  {
   "cell_type": "code",
   "execution_count": null,
   "id": "75994f19-8c72-4ef2-b8d4-8cd2598df8d6",
   "metadata": {},
   "outputs": [],
   "source": []
  }
 ],
 "metadata": {
  "kernelspec": {
   "display_name": "Python 3",
   "language": "python",
   "name": "python3"
  },
  "language_info": {
   "codemirror_mode": {
    "name": "ipython",
    "version": 3
   },
   "file_extension": ".py",
   "mimetype": "text/x-python",
   "name": "python",
   "nbconvert_exporter": "python",
   "pygments_lexer": "ipython3",
   "version": "3.8.8"
  }
 },
 "nbformat": 4,
 "nbformat_minor": 5
}
