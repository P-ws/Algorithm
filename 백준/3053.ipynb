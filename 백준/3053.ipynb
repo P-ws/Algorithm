{
 "cells": [
  {
   "cell_type": "code",
   "execution_count": 9,
   "id": "fc97a322-0b14-4280-a7b1-3b73526dffb3",
   "metadata": {},
   "outputs": [
    {
     "name": "stdin",
     "output_type": "stream",
     "text": [
      " 21\n"
     ]
    },
    {
     "name": "stdout",
     "output_type": "stream",
     "text": [
      "1385.442360\n",
      "882.000000\n"
     ]
    }
   ],
   "source": [
    "import math\n",
    "R = int(input())\n",
    "\n",
    "area_UC = (math.pi)*(R**2)\n",
    "area_DT = (R**2)*2\n",
    "print(format(area_UC,'.6f'))\n",
    "print(format(area_DT,'.6f'))\n",
    "\n",
    "\n"
   ]
  }
 ],
 "metadata": {
  "kernelspec": {
   "display_name": "Python 3",
   "language": "python",
   "name": "python3"
  },
  "language_info": {
   "codemirror_mode": {
    "name": "ipython",
    "version": 3
   },
   "file_extension": ".py",
   "mimetype": "text/x-python",
   "name": "python",
   "nbconvert_exporter": "python",
   "pygments_lexer": "ipython3",
   "version": "3.8.8"
  }
 },
 "nbformat": 4,
 "nbformat_minor": 5
}
