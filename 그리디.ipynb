{
 "cells": [
  {
   "cell_type": "markdown",
   "id": "2fe1815a-0ab8-47b1-a454-e2e196284c7a",
   "metadata": {},
   "source": [
    "## $거스름돈$"
   ]
  },
  {
   "cell_type": "markdown",
   "id": "d9a68397-c768-408c-b4c2-91bc528fb395",
   "metadata": {},
   "source": [
    "### 방법 1"
   ]
  },
  {
   "cell_type": "code",
   "execution_count": 3,
   "id": "9c200067-aaf3-4866-9a95-085f0a1162a5",
   "metadata": {},
   "outputs": [
    {
     "name": "stdin",
     "output_type": "stream",
     "text": [
      " 1\n"
     ]
    },
    {
     "name": "stdout",
     "output_type": "stream",
     "text": [
      "15\n"
     ]
    }
   ],
   "source": [
    "#500, 100, 50, 10, 5, 1\n",
    "\n",
    "pay = int(input())\n",
    "\n",
    "pay = 1000 - pay\n",
    "\n",
    "count = 0\n",
    "\n",
    "while True:\n",
    "    if pay >= 500 :\n",
    "        pay = pay - 500\n",
    "        count +=1\n",
    "\n",
    "    elif pay >= 100:\n",
    "        pay = pay -100\n",
    "        count +=1\n",
    "\n",
    "    elif pay >= 50:\n",
    "        pay = pay -50\n",
    "        count +=1\n",
    "\n",
    "    elif pay >= 10:\n",
    "        pay = pay -10\n",
    "        count +=1\n",
    "\n",
    "    elif pay >= 5:\n",
    "        pay = pay -5\n",
    "        count +=1\n",
    "\n",
    "    elif pay >= 1:\n",
    "        pay = pay -1\n",
    "        count +=1\n",
    "\n",
    "    elif pay == 0:\n",
    "        break\n",
    "\n",
    "print(count)"
   ]
  },
  {
   "cell_type": "markdown",
   "id": "483c70d4-6914-4677-902a-3fe1b2aaf2ac",
   "metadata": {},
   "source": [
    "### 방법 2"
   ]
  },
  {
   "cell_type": "code",
   "execution_count": 5,
   "id": "46662c41-1364-4c68-94c3-92841f0aac1e",
   "metadata": {},
   "outputs": [
    {
     "name": "stdin",
     "output_type": "stream",
     "text": [
      " 380\n"
     ]
    },
    {
     "name": "stdout",
     "output_type": "stream",
     "text": [
      "4\n"
     ]
    }
   ],
   "source": [
    "a = 1000 - int(input())\n",
    "b = [500, 100, 50, 10, 5, 1]\n",
    "count = 0\n",
    "for i in b:\n",
    "    count += a // i\n",
    "    a %= i\n",
    "print(count)"
   ]
  },
  {
   "cell_type": "markdown",
   "id": "16798385-56aa-483d-8988-9bd575f9ecfe",
   "metadata": {},
   "source": [
    "## $회의실$"
   ]
  },
  {
   "cell_type": "code",
   "execution_count": 7,
   "id": "a7155520-8663-4c49-a2cf-8e565954e200",
   "metadata": {},
   "outputs": [
    {
     "name": "stdin",
     "output_type": "stream",
     "text": [
      " 11\n",
      " 1 4\n",
      " 3 5\n",
      " 0 6\n",
      " 5 7\n",
      " 3 8\n",
      " 5 9\n",
      " 6 10\n",
      " 8 11\n",
      " 8 12\n",
      " 2 13\n",
      " 12 14\n"
     ]
    },
    {
     "name": "stdout",
     "output_type": "stream",
     "text": [
      "4\n"
     ]
    }
   ],
   "source": [
    "n = int(input())\n",
    "time_list = []\n",
    "for _ in range(n):\n",
    "    start, end = map(int, input().split())\n",
    "    time_list.append([start, end])\n",
    "    \n",
    "time_list.sort(key = lambda x: (x[1],x[0]))\n",
    "\n",
    "max_meeting = 0\n",
    "start = 0\n",
    "for time in time_list:\n",
    "    if time[0] >= start:\n",
    "        start = time[1]\n",
    "        max_meeting += 1\n",
    "\n",
    "print(max_meeting)"
   ]
  },
  {
   "cell_type": "code",
   "execution_count": 13,
   "id": "8b3b0d3f-2e49-4c9d-b4af-6e61b1b622cd",
   "metadata": {},
   "outputs": [
    {
     "data": {
      "text/plain": [
       "[[0, 2], [1, 4], [9, 4], [5, 7]]"
      ]
     },
     "execution_count": 13,
     "metadata": {},
     "output_type": "execute_result"
    }
   ],
   "source": [
    "time_list=[[1,4], [9,4], [0, 2], [5, 7]]\n",
    "time_list.sort(key = lambda x: (x[1],x[0]))\n",
    "time_list"
   ]
  },
  {
   "cell_type": "code",
   "execution_count": null,
   "id": "78141249-d10a-4fcc-9e3e-d3a64a5d4e05",
   "metadata": {},
   "outputs": [],
   "source": []
  }
 ],
 "metadata": {
  "kernelspec": {
   "display_name": "Python 3",
   "language": "python",
   "name": "python3"
  },
  "language_info": {
   "codemirror_mode": {
    "name": "ipython",
    "version": 3
   },
   "file_extension": ".py",
   "mimetype": "text/x-python",
   "name": "python",
   "nbconvert_exporter": "python",
   "pygments_lexer": "ipython3",
   "version": "3.8.8"
  }
 },
 "nbformat": 4,
 "nbformat_minor": 5
}
