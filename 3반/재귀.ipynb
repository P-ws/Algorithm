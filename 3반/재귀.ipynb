{
 "cells": [
  {
   "cell_type": "code",
   "execution_count": 16,
   "id": "8c4bc136-b441-4ea7-99e6-5f5398e0f5ab",
   "metadata": {},
   "outputs": [
    {
     "name": "stdin",
     "output_type": "stream",
     "text": [
      " 105\n"
     ]
    },
    {
     "name": "stdout",
     "output_type": "stream",
     "text": [
      "1[1, 0, 0, 1, 0, 1]\n",
      "1[1, 0, 0, 1, 0]\n",
      "0[1, 0, 0, 1]\n",
      "1[1, 0, 0]\n",
      "0[1, 0]\n",
      "0[1]\n",
      "1[]\n"
     ]
    }
   ],
   "source": [
    "n= int(input())\n",
    "\n",
    "arr = []\n",
    "def recur(n):\n",
    "    if n ==1 :\n",
    "        arr.append(1)\n",
    "    elif n//2 == 1 :\n",
    "        arr.append(n%2)\n",
    "        arr.append(1)\n",
    "    else:\n",
    "        arr.append(n%2)\n",
    "        recur(n//2)\n",
    "        \n",
    "recur(n)\n",
    "\n",
    "for _ in range(len(arr)):\n",
    "    print(arr.pop(), end='')\n",
    "    print(arr)"
   ]
  },
  {
   "cell_type": "code",
   "execution_count": 8,
   "id": "9f5f3065-cec7-49d3-858a-d51933e11840",
   "metadata": {},
   "outputs": [
    {
     "data": {
      "text/plain": [
       "'12'"
      ]
     },
     "execution_count": 8,
     "metadata": {},
     "output_type": "execute_result"
    }
   ],
   "source": [
    "''.join(['1','2'])"
   ]
  },
  {
   "cell_type": "code",
   "execution_count": null,
   "id": "e9abaf80-cd69-47e9-bcbd-3743f94dde6d",
   "metadata": {},
   "outputs": [],
   "source": []
  }
 ],
 "metadata": {
  "kernelspec": {
   "display_name": "Python 3",
   "language": "python",
   "name": "python3"
  },
  "language_info": {
   "codemirror_mode": {
    "name": "ipython",
    "version": 3
   },
   "file_extension": ".py",
   "mimetype": "text/x-python",
   "name": "python",
   "nbconvert_exporter": "python",
   "pygments_lexer": "ipython3",
   "version": "3.8.8"
  }
 },
 "nbformat": 4,
 "nbformat_minor": 5
}
