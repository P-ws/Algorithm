{
 "cells": [
  {
   "cell_type": "code",
   "execution_count": 25,
   "id": "3ca946ed-6e6d-4e7d-a846-58dab7eb58a7",
   "metadata": {},
   "outputs": [
    {
     "name": "stdin",
     "output_type": "stream",
     "text": [
      " 7\n",
      " push 123\n",
      " push 334\n",
      " top\n"
     ]
    },
    {
     "name": "stdout",
     "output_type": "stream",
     "text": [
      "334\n"
     ]
    },
    {
     "name": "stdin",
     "output_type": "stream",
     "text": [
      " size\n"
     ]
    },
    {
     "name": "stdout",
     "output_type": "stream",
     "text": [
      "2\n"
     ]
    },
    {
     "name": "stdin",
     "output_type": "stream",
     "text": [
      " pop\n"
     ]
    },
    {
     "name": "stdout",
     "output_type": "stream",
     "text": [
      "334\n"
     ]
    },
    {
     "name": "stdin",
     "output_type": "stream",
     "text": [
      " pop\n"
     ]
    },
    {
     "name": "stdout",
     "output_type": "stream",
     "text": [
      "123\n"
     ]
    },
    {
     "name": "stdin",
     "output_type": "stream",
     "text": [
      " pop\n"
     ]
    },
    {
     "name": "stdout",
     "output_type": "stream",
     "text": [
      "-1\n"
     ]
    }
   ],
   "source": [
    "n = int(input())\n",
    "stack_list = []\n",
    "def process_stack(command):\n",
    "    if 'push' in command:\n",
    "        stack_list.append(int(command[5:]))\n",
    "        \n",
    "    elif command == 'top':\n",
    "        if stack_list:\n",
    "            print(stack_list[-1])\n",
    "        else:\n",
    "            print(-1)\n",
    "    \n",
    "    elif command == 'size':  \n",
    "        print(len(stack_list))\n",
    "\n",
    "        \n",
    "    elif command == 'empty':\n",
    "        if stack_list:\n",
    "            print(0)\n",
    "        else:\n",
    "            print(1)\n",
    "            \n",
    "    elif command =='pop':\n",
    "        if stack_list:\n",
    "            print(stack_list[-1])\n",
    "            del(stack_list[-1])\n",
    "        else:\n",
    "            print(-1)\n",
    "    else:\n",
    "        print(-1)\n",
    "        \n",
    "        \n",
    "        \n",
    "for i in range(n):\n",
    "    command = input()\n",
    "    process_stack(command)\n",
    "\n",
    "\n"
   ]
  },
  {
   "cell_type": "code",
   "execution_count": null,
   "id": "d290d6d5-7d52-4edb-b7f2-0b28d0036eee",
   "metadata": {},
   "outputs": [
    {
     "name": "stdin",
     "output_type": "stream",
     "text": [
      " 15\n",
      " push 1\n"
     ]
    },
    {
     "name": "stdout",
     "output_type": "stream",
     "text": [
      "[1]\n",
      "1\n"
     ]
    },
    {
     "name": "stdin",
     "output_type": "stream",
     "text": [
      " push 2\n"
     ]
    },
    {
     "name": "stdout",
     "output_type": "stream",
     "text": [
      "[1, 2]\n",
      "2\n"
     ]
    }
   ],
   "source": [
    "class Stack:\n",
    "    def __init__(self, n):\n",
    "        # self.stack = [None] * n\n",
    "        self.stack = [None for _ in range(n)]\n",
    "        # self.stack = [i+1 for i in range(n)]\n",
    "        self.stack_size = 0\n",
    "\n",
    "    def push(self, num):\n",
    "        self.stack[self.size()] = int(num)\n",
    "        self.stack_size += 1\n",
    "\n",
    "    def pop(self):\n",
    "        if self.size() > 0:\n",
    "            last_val = self.top()\n",
    "            self.stack_size -= 1\n",
    "            return last_val\n",
    "\n",
    "        return -1\n",
    "\n",
    "    def size(self):\n",
    "        return self.stack_size\n",
    "\n",
    "    def empty(self):\n",
    "        if self.size() > 0:\n",
    "            return 0\n",
    "        \n",
    "        return 1\n",
    "        \n",
    "    def top(self):\n",
    "        if self.size() > 0:\n",
    "            return self.stack[self.size()-1]\n",
    "        \n",
    "        return -1\n",
    "\n",
    "def run_cmd_with_stack(cmd, stack_lst):\n",
    "    cmd_type = cmd[0]\n",
    "\n",
    "    if cmd_type == \"push\":\n",
    "        _, num = cmd # num = cmd[1]\n",
    "        stack_lst.push(num)\n",
    "    elif cmd_type == \"pop\":\n",
    "        print(stack_lst.pop())\n",
    "    elif cmd_type == \"size\":\n",
    "        print(stack_lst.size())\n",
    "    elif cmd_type == \"empty\":\n",
    "        print(stack_lst.empty())\n",
    "    elif cmd_type == \"top\":\n",
    "        print(stack_lst.top())\n",
    "\n",
    "    return stack_lst\n",
    "\n",
    "n = int(input())\n",
    "stack_lst = Stack(n)\n",
    "# stack_lst.stack => []\n",
    "\n",
    "for _ in range(n):\n",
    "    command = input().split()\n",
    "    stack_lst = run_cmd_with_stack(command, stack_lst)\n",
    "\n",
    "    print(stack_lst.stack[:stack_lst.size()])\n",
    "    print(stack_lst.size())"
   ]
  },
  {
   "cell_type": "code",
   "execution_count": 1,
   "id": "2d13c11f-6fa6-4ca0-935e-4d59e22ea1ac",
   "metadata": {},
   "outputs": [],
   "source": [
    "a = [None for _ in range(15)]"
   ]
  },
  {
   "cell_type": "code",
   "execution_count": 2,
   "id": "97b28988-46d3-4358-982a-a144a243a3ec",
   "metadata": {},
   "outputs": [
    {
     "data": {
      "text/plain": [
       "[None,\n",
       " None,\n",
       " None,\n",
       " None,\n",
       " None,\n",
       " None,\n",
       " None,\n",
       " None,\n",
       " None,\n",
       " None,\n",
       " None,\n",
       " None,\n",
       " None,\n",
       " None,\n",
       " None]"
      ]
     },
     "execution_count": 2,
     "metadata": {},
     "output_type": "execute_result"
    }
   ],
   "source": [
    "a"
   ]
  },
  {
   "cell_type": "code",
   "execution_count": null,
   "id": "909b48d4-93c8-4801-b007-792a5d810d24",
   "metadata": {},
   "outputs": [],
   "source": []
  }
 ],
 "metadata": {
  "kernelspec": {
   "display_name": "Python 3",
   "language": "python",
   "name": "python3"
  },
  "language_info": {
   "codemirror_mode": {
    "name": "ipython",
    "version": 3
   },
   "file_extension": ".py",
   "mimetype": "text/x-python",
   "name": "python",
   "nbconvert_exporter": "python",
   "pygments_lexer": "ipython3",
   "version": "3.8.8"
  }
 },
 "nbformat": 4,
 "nbformat_minor": 5
}
